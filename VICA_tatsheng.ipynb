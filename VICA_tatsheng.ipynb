{
 "cells": [
  {
   "cell_type": "markdown",
   "metadata": {},
   "source": [
    "# 1 - Import libraries"
   ]
  },
  {
   "cell_type": "code",
   "execution_count": 544,
   "metadata": {},
   "outputs": [],
   "source": [
    "# Misc\n",
    "import collections\n",
    "\n",
    "# Data analysis\n",
    "import pandas as pd\n",
    "import numpy as np\n",
    "\n",
    "# Data visualization\n",
    "import matplotlib.pyplot as plt\n",
    "import seaborn as sns\n",
    "\n",
    "\n",
    "# Machine learning\n",
    "from sklearn.linear_model import LogisticRegression\n",
    "from sklearn.metrics import confusion_matrix, roc_curve, roc_auc_score"
   ]
  },
  {
   "cell_type": "markdown",
   "metadata": {},
   "source": [
    "# 2 - Loading and Cleaning data"
   ]
  },
  {
   "cell_type": "code",
   "execution_count": 545,
   "metadata": {},
   "outputs": [
    {
     "name": "stdout",
     "output_type": "stream",
     "text": [
      "(5500, 15)\n"
     ]
    },
    {
     "data": {
      "text/html": [
       "<div>\n",
       "<style scoped>\n",
       "    .dataframe tbody tr th:only-of-type {\n",
       "        vertical-align: middle;\n",
       "    }\n",
       "\n",
       "    .dataframe tbody tr th {\n",
       "        vertical-align: top;\n",
       "    }\n",
       "\n",
       "    .dataframe thead th {\n",
       "        text-align: right;\n",
       "    }\n",
       "</style>\n",
       "<table border=\"1\" class=\"dataframe\">\n",
       "  <thead>\n",
       "    <tr style=\"text-align: right;\">\n",
       "      <th></th>\n",
       "      <th>insuree#</th>\n",
       "      <th>gender</th>\n",
       "      <th>is45OrOlder</th>\n",
       "      <th>isMarried</th>\n",
       "      <th>hasKids</th>\n",
       "      <th>insuredMonths</th>\n",
       "      <th>termLifeInsurance</th>\n",
       "      <th>multipleTermLifePolicies</th>\n",
       "      <th>healthInsurance</th>\n",
       "      <th>healthRiders</th>\n",
       "      <th>premiumFrequency</th>\n",
       "      <th>eStatements</th>\n",
       "      <th>monthlyPremium</th>\n",
       "      <th>totalPremium</th>\n",
       "      <th>renewal</th>\n",
       "    </tr>\n",
       "  </thead>\n",
       "  <tbody>\n",
       "    <tr>\n",
       "      <th>0</th>\n",
       "      <td>1</td>\n",
       "      <td>F</td>\n",
       "      <td>0.0</td>\n",
       "      <td>Yes</td>\n",
       "      <td>Yes</td>\n",
       "      <td>23</td>\n",
       "      <td>Yes</td>\n",
       "      <td>No</td>\n",
       "      <td>No</td>\n",
       "      <td>NaN</td>\n",
       "      <td>12.0</td>\n",
       "      <td>Yes</td>\n",
       "      <td>19,65</td>\n",
       "      <td>451,55</td>\n",
       "      <td>Y</td>\n",
       "    </tr>\n",
       "    <tr>\n",
       "      <th>1</th>\n",
       "      <td>2</td>\n",
       "      <td>F</td>\n",
       "      <td>1.0</td>\n",
       "      <td>No</td>\n",
       "      <td>No</td>\n",
       "      <td>42</td>\n",
       "      <td>Yes</td>\n",
       "      <td>Yes</td>\n",
       "      <td>Class A</td>\n",
       "      <td>3</td>\n",
       "      <td>1.0</td>\n",
       "      <td>Yes</td>\n",
       "      <td>84,65</td>\n",
       "      <td>3541,35</td>\n",
       "      <td>N</td>\n",
       "    </tr>\n",
       "    <tr>\n",
       "      <th>2</th>\n",
       "      <td>3</td>\n",
       "      <td>F</td>\n",
       "      <td>0.0</td>\n",
       "      <td>Yes</td>\n",
       "      <td>No</td>\n",
       "      <td>72</td>\n",
       "      <td>Yes</td>\n",
       "      <td>No</td>\n",
       "      <td>No</td>\n",
       "      <td>NaN</td>\n",
       "      <td>12.0</td>\n",
       "      <td>No</td>\n",
       "      <td>19,4</td>\n",
       "      <td>1496,45</td>\n",
       "      <td>Y</td>\n",
       "    </tr>\n",
       "    <tr>\n",
       "      <th>3</th>\n",
       "      <td>4</td>\n",
       "      <td>F</td>\n",
       "      <td>0.0</td>\n",
       "      <td>Yes</td>\n",
       "      <td>Yes</td>\n",
       "      <td>13</td>\n",
       "      <td>Yes</td>\n",
       "      <td>No</td>\n",
       "      <td>No</td>\n",
       "      <td>NaN</td>\n",
       "      <td>12.0</td>\n",
       "      <td>No</td>\n",
       "      <td>19,55</td>\n",
       "      <td>265,3</td>\n",
       "      <td>Y</td>\n",
       "    </tr>\n",
       "    <tr>\n",
       "      <th>4</th>\n",
       "      <td>5</td>\n",
       "      <td>F</td>\n",
       "      <td>0.0</td>\n",
       "      <td>No</td>\n",
       "      <td>No</td>\n",
       "      <td>37</td>\n",
       "      <td>Yes</td>\n",
       "      <td>Yes</td>\n",
       "      <td>Class A</td>\n",
       "      <td>3,4</td>\n",
       "      <td>1.0</td>\n",
       "      <td>No</td>\n",
       "      <td>100,3</td>\n",
       "      <td>3541,4</td>\n",
       "      <td>Y</td>\n",
       "    </tr>\n",
       "  </tbody>\n",
       "</table>\n",
       "</div>"
      ],
      "text/plain": [
       "   insuree# gender  is45OrOlder isMarried hasKids  insuredMonths  \\\n",
       "0         1      F          0.0       Yes     Yes             23   \n",
       "1         2      F          1.0        No      No             42   \n",
       "2         3      F          0.0       Yes      No             72   \n",
       "3         4      F          0.0       Yes     Yes             13   \n",
       "4         5      F          0.0        No      No             37   \n",
       "\n",
       "  termLifeInsurance multipleTermLifePolicies healthInsurance healthRiders  \\\n",
       "0               Yes                       No              No          NaN   \n",
       "1               Yes                      Yes         Class A            3   \n",
       "2               Yes                       No              No          NaN   \n",
       "3               Yes                       No              No          NaN   \n",
       "4               Yes                      Yes         Class A          3,4   \n",
       "\n",
       "   premiumFrequency eStatements monthlyPremium totalPremium renewal  \n",
       "0              12.0         Yes          19,65       451,55       Y  \n",
       "1               1.0         Yes          84,65      3541,35       N  \n",
       "2              12.0          No           19,4      1496,45       Y  \n",
       "3              12.0          No          19,55        265,3       Y  \n",
       "4               1.0          No          100,3       3541,4       Y  "
      ]
     },
     "execution_count": 545,
     "metadata": {},
     "output_type": "execute_result"
    }
   ],
   "source": [
    "# Review dataframe\n",
    "insurance = pd.read_csv('insurance_data.csv', sep=';')\n",
    "print(insurance.shape)\n",
    "insurance.head(5)"
   ]
  },
  {
   "cell_type": "code",
   "execution_count": 546,
   "metadata": {},
   "outputs": [
    {
     "data": {
      "text/plain": [
       "healthRiders                1982\n",
       "premiumFrequency             114\n",
       "gender                       113\n",
       "is45OrOlder                   96\n",
       "insuree#                       0\n",
       "isMarried                      0\n",
       "hasKids                        0\n",
       "insuredMonths                  0\n",
       "termLifeInsurance              0\n",
       "multipleTermLifePolicies       0\n",
       "healthInsurance                0\n",
       "eStatements                    0\n",
       "monthlyPremium                 0\n",
       "totalPremium                   0\n",
       "renewal                        0\n",
       "dtype: int64"
      ]
     },
     "execution_count": 546,
     "metadata": {},
     "output_type": "execute_result"
    }
   ],
   "source": [
    "# Check NA fields\n",
    "insurance.isna().sum().sort_values(ascending=False)"
   ]
  },
  {
   "cell_type": "code",
   "execution_count": 547,
   "metadata": {},
   "outputs": [
    {
     "name": "stdout",
     "output_type": "stream",
     "text": [
      "M    2719\n",
      "F    2668\n",
      "Name: gender, dtype: int64\n",
      "0.0    4525\n",
      "1.0     879\n",
      "Name: is45OrOlder, dtype: int64\n",
      "3,4        474\n",
      "2,3,4      434\n",
      "1,2,3,4    374\n",
      "2          304\n",
      "1          277\n",
      "1,2        247\n",
      "3          238\n",
      "4          232\n",
      "1,3,4      228\n",
      "2,3        139\n",
      "2,4        133\n",
      "1,2,4      131\n",
      "1,2,3      126\n",
      "1,4         95\n",
      "1,3         86\n",
      "Name: healthRiders, dtype: int64\n",
      "1.0     2959\n",
      "12.0    1308\n",
      "3.0     1119\n",
      "Name: premiumFrequency, dtype: int64\n"
     ]
    }
   ],
   "source": [
    "# Value counts of all fields with NA\n",
    "df = insurance.copy()\n",
    "for i in df.columns[df.isnull().any()]:\n",
    "    print(df[i].value_counts())"
   ]
  },
  {
   "cell_type": "code",
   "execution_count": 548,
   "metadata": {},
   "outputs": [
    {
     "data": {
      "text/html": [
       "<div>\n",
       "<style scoped>\n",
       "    .dataframe tbody tr th:only-of-type {\n",
       "        vertical-align: middle;\n",
       "    }\n",
       "\n",
       "    .dataframe tbody tr th {\n",
       "        vertical-align: top;\n",
       "    }\n",
       "\n",
       "    .dataframe thead th {\n",
       "        text-align: right;\n",
       "    }\n",
       "</style>\n",
       "<table border=\"1\" class=\"dataframe\">\n",
       "  <thead>\n",
       "    <tr style=\"text-align: right;\">\n",
       "      <th></th>\n",
       "      <th>insuree#</th>\n",
       "      <th>gender</th>\n",
       "      <th>is45OrOlder</th>\n",
       "      <th>isMarried</th>\n",
       "      <th>hasKids</th>\n",
       "      <th>insuredMonths</th>\n",
       "      <th>termLifeInsurance</th>\n",
       "      <th>multipleTermLifePolicies</th>\n",
       "      <th>healthInsurance</th>\n",
       "      <th>healthRiders</th>\n",
       "      <th>premiumFrequency</th>\n",
       "      <th>eStatements</th>\n",
       "      <th>monthlyPremium</th>\n",
       "      <th>totalPremium</th>\n",
       "      <th>renewal</th>\n",
       "    </tr>\n",
       "  </thead>\n",
       "  <tbody>\n",
       "    <tr>\n",
       "      <th>0</th>\n",
       "      <td>1</td>\n",
       "      <td>F</td>\n",
       "      <td>0.0</td>\n",
       "      <td>Yes</td>\n",
       "      <td>Yes</td>\n",
       "      <td>23</td>\n",
       "      <td>Yes</td>\n",
       "      <td>No</td>\n",
       "      <td>No</td>\n",
       "      <td>0</td>\n",
       "      <td>12.0</td>\n",
       "      <td>Yes</td>\n",
       "      <td>19,65</td>\n",
       "      <td>451,55</td>\n",
       "      <td>Y</td>\n",
       "    </tr>\n",
       "    <tr>\n",
       "      <th>1</th>\n",
       "      <td>2</td>\n",
       "      <td>F</td>\n",
       "      <td>1.0</td>\n",
       "      <td>No</td>\n",
       "      <td>No</td>\n",
       "      <td>42</td>\n",
       "      <td>Yes</td>\n",
       "      <td>Yes</td>\n",
       "      <td>Class A</td>\n",
       "      <td>3</td>\n",
       "      <td>1.0</td>\n",
       "      <td>Yes</td>\n",
       "      <td>84,65</td>\n",
       "      <td>3541,35</td>\n",
       "      <td>N</td>\n",
       "    </tr>\n",
       "  </tbody>\n",
       "</table>\n",
       "</div>"
      ],
      "text/plain": [
       "   insuree# gender  is45OrOlder isMarried hasKids  insuredMonths  \\\n",
       "0         1      F          0.0       Yes     Yes             23   \n",
       "1         2      F          1.0        No      No             42   \n",
       "\n",
       "  termLifeInsurance multipleTermLifePolicies healthInsurance healthRiders  \\\n",
       "0               Yes                       No              No            0   \n",
       "1               Yes                      Yes         Class A            3   \n",
       "\n",
       "   premiumFrequency eStatements monthlyPremium totalPremium renewal  \n",
       "0              12.0         Yes          19,65       451,55       Y  \n",
       "1               1.0         Yes          84,65      3541,35       N  "
      ]
     },
     "execution_count": 548,
     "metadata": {},
     "output_type": "execute_result"
    }
   ],
   "source": [
    "### Dealing with NA Values\n",
    "df = df.copy()\n",
    "\n",
    "# Gender: Remove all NAs as there is no way for us to fill an arbitrary gender\n",
    "df = df[df.gender.notna()]\n",
    "\n",
    "# is45OrOlder: Remove all NAs as there is no way for us to fill an arbitrary age\n",
    "df = df[df.is45OrOlder.notna()]\n",
    "\n",
    "# healthRiders: change all values to 0 as there may be people with policies without riders\n",
    "df.healthRiders.loc[df.healthRiders.isna()] = 0\n",
    "\n",
    "# premiumFrequency: change all values to 0 as premium can be fully paid\n",
    "df.premiumFrequency.loc[df.premiumFrequency.isna()] = 0\n",
    "\n",
    "df.head(2)"
   ]
  },
  {
   "cell_type": "markdown",
   "metadata": {},
   "source": [
    "# 3 - Visualisations: Cross sections of data"
   ]
  },
  {
   "cell_type": "code",
   "execution_count": 549,
   "metadata": {},
   "outputs": [
    {
     "name": "stdout",
     "output_type": "stream",
     "text": [
      "Average number of riders per customer: 1.3879440665154952\n"
     ]
    },
    {
     "data": {
      "image/png": "[encoded data removed]",
      "text/plain": [
       "<Figure size 432x288 with 1 Axes>"
      ]
     },
     "metadata": {},
     "output_type": "display_data"
    },
    {
     "name": "stdout",
     "output_type": "stream",
     "text": [
      "The pie chart shows that the most popular riders among customers are 3 and 4.\n"
     ]
    }
   ],
   "source": [
    "### Q1. \n",
    "\n",
    "## Average number of riders per customer\n",
    "def count_riders(x):\n",
    "    if isinstance(x, str) == True:\n",
    "        return x.count(',')+1\n",
    "    else:\n",
    "        if x == 0:\n",
    "            return 0\n",
    "        return 1\n",
    "df['count_riders'] = df.healthRiders.apply(lambda x: count_riders(x))\n",
    "print('Average number of riders per customer: ' + str(df.count_riders.mean()))\n",
    "\n",
    "## Most popular riders\n",
    "rider_split_ = []\n",
    "for i in range(df.count_riders.max()):\n",
    "    rider_split_.append('rider_split_' +str(i))\n",
    "\n",
    "# create a split for each unique rider, filters can be added to split_w_filters list for later visualisation\n",
    "df[rider_split_] = df.healthRiders.str.split(',', expand = True) \n",
    "filters = ['is45OrOlder', 'gender', 'isMarried', 'hasKids', 'termLifeInsurance', 'multipleTermLifePolicies', 'healthInsurance', 'premiumFrequency' ]\n",
    "split_w_filters = filters + rider_split_ \n",
    "\n",
    "# Add in age for filter and melt df \n",
    "split_df = df[split_w_filters] \n",
    "riders_df =  pd.melt(split_df, id_vars = filters, value_vars = rider_split_)\n",
    "\n",
    "# Create Pie chart for percentage of customers per rider.\n",
    "riders, cust_per_rider = riders_df.value.value_counts().keys().tolist(), riders_df.value.value_counts().tolist()\n",
    "\n",
    "plt.pie(cust_per_rider, \n",
    "            labels = riders,\n",
    "            autopct= '%1.2f%%',\n",
    "            radius = 1.2)\n",
    "            \n",
    "plt.title('Pie chart of customers per rider')\n",
    "\n",
    "plt.legend(title=\"Riders\",\n",
    "          loc=\"center left\",\n",
    "          bbox_to_anchor=(1, 0, 0.5, 1))\n",
    "plt.show()\n",
    "print('The pie chart shows that the most popular riders among customers are 3 and 4.')\n"
   ]
  },
  {
   "cell_type": "code",
   "execution_count": 550,
   "metadata": {},
   "outputs": [
    {
     "data": {
      "image/png": "[encoded data removed]",
      "text/plain": [
       "<Figure size 2016x432 with 4 Axes>"
      ]
     },
     "metadata": {
      "needs_background": "light"
     },
     "output_type": "display_data"
    },
    {
     "name": "stdout",
     "output_type": "stream",
     "text": [
      "The countplot grouping the customers by age shows that the most popular riders among older people is rider 4.\n",
      "------\n",
      "The countplot grouping the customers by gender shows that the choice of riders between both genders are similar\n",
      "------\n",
      "Customers who are married tend to purchase rider 2 more, indicating that it is a marriage oriented rider.\n",
      "------\n",
      "Interestingly, Customers who have kids tend to purchase rider 2 and rider 1 more proportionately, indicating that 1 may be a child oriented rider.\n"
     ]
    }
   ],
   "source": [
    "### Q2.1\n",
    "\n",
    "# Drilling down to customer inherent variables: Age, Gender, Marital status and Children.\n",
    "customer_filters = filters[0:4]\n",
    "\n",
    "# Visualising factors on rider purchase. \n",
    "riders_df['is45OrOlder'] = riders_df.is45OrOlder.apply(lambda x: 'Older' if x == 1 else 'Younger')\n",
    "\n",
    "# Plotting countplots for each filter (Age, gender, etc.)\n",
    "fig, (ax1, ax2, ax3, ax4) = plt.subplots(1,4, figsize = (28,6))\n",
    "\n",
    "# sns.countplot(x = riders_df['value'], dodge = False, ax = ax1)\n",
    "axes = [ax1, ax2, ax3, ax4]\n",
    "\n",
    "for i in range(len(customer_filters)):\n",
    "    sns.countplot(x = riders_df['value'], hue = riders_df[customer_filters[i]], dodge = True, ax = axes[i])\n",
    "    axes[i].bar_label(axes[i].containers[0])\n",
    "    axes[i].bar_label(axes[i].containers[1])\n",
    "    axes[i].set_yticks([0,500,1000,1500,2000])\n",
    "    axes[i].legend(loc= 'lower right')\n",
    "    axes[i].set_xlabel('Rider')\n",
    "    axes[i].set_ylabel('Number of customers')\n",
    "    axes[i].set_title('Grouped by ' +str(customer_filters[i]))\n",
    "\n",
    "\n",
    "plt.suptitle('Number of customers per rider')\n",
    "\n",
    "plt.show()\n",
    "\n",
    "print('The countplot grouping the customers by age shows that the most popular riders among older people is rider 4.')\n",
    "print('------')\n",
    "print('The countplot grouping the customers by gender shows that the choice of riders between both genders are similar')\n",
    "print('------')\n",
    "print('Customers who are married tend to purchase rider 2 more, indicating that it is a marriage oriented rider.')\n",
    "print('------')\n",
    "print('Interestingly, Customers who have kids tend to purchase rider 2 and rider 1 more proportionately, indicating that 1 may be a child oriented rider.')\n",
    "\n",
    "# IMPORTANT: IF ERROR IS ENCOUNTERED, PRESS RUN ALL, DO NOT RUN BY CELL."
   ]
  },
  {
   "cell_type": "code",
   "execution_count": 551,
   "metadata": {},
   "outputs": [
    {
     "data": {
      "image/png": "[encoded data removed]",
      "text/plain": [
       "<Figure size 2016x432 with 4 Axes>"
      ]
     },
     "metadata": {
      "needs_background": "light"
     },
     "output_type": "display_data"
    },
    {
     "name": "stdout",
     "output_type": "stream",
     "text": [
      "These countplots clue us in to the structure of products: riders 4, 3 and 2 are most popularly sought by customers with term life products\n",
      "------\n",
      "Customers with class B health insurance are more likely to purchase rider 1 and 2, whereas class A health insurance holders tend to purchase rider 3 and 4 more\n",
      "------\n",
      "From the chart of premium frequency, most customers who purchase a given rider would chose to pay premiums on a monthly basis.\n"
     ]
    }
   ],
   "source": [
    "### Q2.2\n",
    "\n",
    "# Drilling down to product inherent variables: 'termLifeInsurance', 'multipleTermLifePolicies', 'healthInsurance', 'premiumFrequency' \n",
    "product_filters = filters[4:]\n",
    "\n",
    "# Plotting countplots for each filter (Age, gender, etc.)\n",
    "fig2, (ax5, ax6, ax7, ax8) = plt.subplots(1,4, figsize = (28,6))\n",
    "\n",
    "# sns.countplot(x = riders_df['value'], dodge = False, ax = ax1)\n",
    "axes = [ax5, ax6, ax7, ax8]\n",
    "\n",
    "for i in range(len(product_filters)):\n",
    "    sns.countplot(x = riders_df['value'], hue = riders_df[product_filters[i]], dodge = True, ax = axes[i], palette= 'plasma') # I used plasma so its easier to see 4 groupings per patch\n",
    "    axes[i].bar_label(axes[i].containers[0])\n",
    "    axes[i].bar_label(axes[i].containers[1])\n",
    "    axes[i].set_yticks([0,500,1000,1500,2000])\n",
    "    axes[i].legend(loc= 'upper right')\n",
    "    axes[i].set_xlabel('Rider')\n",
    "    axes[i].set_ylabel('Number of customers')\n",
    "    axes[i].set_title('Grouped by ' +str(product_filters[i]))\n",
    "\n",
    "\n",
    "plt.suptitle('Number of customers per rider')\n",
    "\n",
    "plt.show()\n",
    "\n",
    "print('These countplots clue us in to the structure of products: riders 4, 3 and 2 are most popularly sought by customers with term life products')\n",
    "print('------')\n",
    "print('Customers with class B health insurance are more likely to purchase rider 1 and 2, whereas class A health insurance holders tend to purchase rider 3 and 4 more')\n",
    "print('------')\n",
    "print('From the chart of premium frequency, most customers who purchase a given rider would chose to pay premiums on a monthly basis.')"
   ]
  },
  {
   "cell_type": "markdown",
   "metadata": {},
   "source": [
    "# 4 - Data Pre-processing for predictions"
   ]
  },
  {
   "cell_type": "code",
   "execution_count": 552,
   "metadata": {},
   "outputs": [],
   "source": [
    "# Create new clean df for predictions\n",
    "pred_df = df.copy()\n",
    "\n",
    "# Remove all rider type columns but keep count of rider as deeper analysis of riders above. \n",
    "pred_df = pred_df.drop('healthRiders', axis = 1)\n",
    "pred_df = pred_df.iloc[:, :-4]"
   ]
  },
  {
   "cell_type": "code",
   "execution_count": 553,
   "metadata": {},
   "outputs": [
    {
     "data": {
      "image/png": "[encoded data removed]",
      "text/plain": [
       "<Figure size 432x288 with 1 Axes>"
      ]
     },
     "metadata": {},
     "output_type": "display_data"
    },
    {
     "name": "stdout",
     "output_type": "stream",
     "text": [
      "Majority (73.2%) of customers renew their policies.\n"
     ]
    }
   ],
   "source": [
    "# Visualising the renewal rate\n",
    "renew_counts = pred_df.renewal.value_counts()\n",
    "sizes = [renew_counts[0], renew_counts[1]]\n",
    "labels='Y','N'\n",
    "explode = (0, 0.1)  \n",
    "fig1, ax1 = plt.subplots()\n",
    "ax1.pie(sizes, explode=explode,autopct='%1.1f%%',shadow=True, startangle=75 )\n",
    "ax1.axis('equal') \n",
    "ax1.set_title(\"Customer Renewal\")\n",
    "ax1.legend(labels)\n",
    "plt.show()\n",
    "\n",
    "print('Majority (73.2%) of customers renew their policies.')"
   ]
  },
  {
   "cell_type": "code",
   "execution_count": 554,
   "metadata": {},
   "outputs": [
    {
     "name": "stdout",
     "output_type": "stream",
     "text": [
      "Old categorical fields: \n",
      "['gender', 'isMarried', 'hasKids', 'termLifeInsurance', 'multipleTermLifePolicies', 'healthInsurance', 'eStatements', 'monthlyPremium', 'totalPremium', 'renewal']\n",
      "-----\n",
      "New categorical fields: \n",
      "['gender', 'isMarried', 'hasKids', 'termLifeInsurance', 'multipleTermLifePolicies', 'healthInsurance', 'eStatements', 'renewal']\n"
     ]
    }
   ],
   "source": [
    "## Adjust categorical fields\n",
    "def get_cat_fields(df):\n",
    "    return df.select_dtypes(exclude = ['int64', 'float64']).columns.tolist()\n",
    "\n",
    "print('Old categorical fields: ')\n",
    "print(get_cat_fields(pred_df))\n",
    "print('-----')\n",
    "\n",
    "# Change premiums to numeric\n",
    "pred_df.monthlyPremium = pred_df.monthlyPremium.str.replace(',', '.')\n",
    "pred_df.monthlyPremium = pd.to_numeric(pred_df.monthlyPremium , errors='coerce').fillna(0, downcast='infer')\n",
    "\n",
    "pred_df.totalPremium = pred_df.totalPremium.str.replace(',', '.')\n",
    "pred_df.totalPremium = pd.to_numeric(pred_df.totalPremium , errors='coerce').fillna(0, downcast='infer')\n",
    "\n",
    "print('New categorical fields: ')\n",
    "print(get_cat_fields(pred_df))"
   ]
  },
  {
   "cell_type": "code",
   "execution_count": null,
   "metadata": {},
   "outputs": [],
   "source": [
    "# One hot encoding (k-1)"
   ]
  }
 ],
 "metadata": {
  "kernelspec": {
   "display_name": "Python 3.10.1 64-bit",
   "language": "python",
   "name": "python3"
  },
  "language_info": {
   "codemirror_mode": {
    "name": "ipython",
    "version": 3
   },
   "file_extension": ".py",
   "mimetype": "text/x-python",
   "name": "python",
   "nbconvert_exporter": "python",
   "pygments_lexer": "ipython3",
   "version": "3.10.7"
  },
  "orig_nbformat": 4,
  "vscode": {
   "interpreter": {
    "hash": "b7da478affe01d998ba032614fda288b4c91404150a78dc872243ca143d7bb35"
   }
  }
 },
 "nbformat": 4,
 "nbformat_minor": 2
}
